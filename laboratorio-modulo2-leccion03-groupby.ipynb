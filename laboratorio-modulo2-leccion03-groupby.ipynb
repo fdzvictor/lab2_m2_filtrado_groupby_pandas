{
 "cells": [
  {
   "cell_type": "markdown",
   "id": "0e4a0473",
   "metadata": {},
   "source": [
    "<div style=\"text-align: center;\">\n",
    "  <img src=\"https://github.com/Hack-io-Data/Imagenes/blob/main/01-LogosHackio/logo_naranja@4x.png?raw=true\" alt=\"esquema\" />\n",
    "</div>"
   ]
  },
  {
   "cell_type": "markdown",
   "id": "8d36bc20",
   "metadata": {},
   "source": [
    "# Laboratorio Agrupamiento de Datos\n",
    "\n",
    "En este laboratorio usaremos el DataFrame creado en la lección anterior resultado de la unión de los conjuntos de datos compartidos contigo. \n",
    "\n",
    "**Instrucciones:**\n",
    "\n",
    "1. Lee cuidadosamente el enunciado de cada ejercicio.\n",
    "\n",
    "2. Implementa la solución en la celda de código proporcionada.\n",
    "\n",
    "3. Devuelve los resultados siempre en formato de DataFrame"
   ]
  },
  {
   "cell_type": "code",
   "execution_count": 32,
   "id": "93d8806d",
   "metadata": {},
   "outputs": [],
   "source": [
    "import pandas as pd\n",
    "import numpy as np"
   ]
  },
  {
   "cell_type": "code",
   "execution_count": 33,
   "id": "04a5af9c",
   "metadata": {},
   "outputs": [
    {
     "data": {
      "text/html": [
       "<div>\n",
       "<style scoped>\n",
       "    .dataframe tbody tr th:only-of-type {\n",
       "        vertical-align: middle;\n",
       "    }\n",
       "\n",
       "    .dataframe tbody tr th {\n",
       "        vertical-align: top;\n",
       "    }\n",
       "\n",
       "    .dataframe thead th {\n",
       "        text-align: right;\n",
       "    }\n",
       "</style>\n",
       "<table border=\"1\" class=\"dataframe\">\n",
       "  <thead>\n",
       "    <tr style=\"text-align: right;\">\n",
       "      <th></th>\n",
       "      <th>show_id</th>\n",
       "      <th>type</th>\n",
       "      <th>title</th>\n",
       "      <th>director</th>\n",
       "      <th>cast</th>\n",
       "      <th>country</th>\n",
       "      <th>date_added</th>\n",
       "      <th>release_year</th>\n",
       "      <th>rating</th>\n",
       "      <th>duration</th>\n",
       "      <th>listed_in</th>\n",
       "      <th>description</th>\n",
       "      <th>Title</th>\n",
       "      <th>Genre</th>\n",
       "      <th>Premiere</th>\n",
       "      <th>Runtime</th>\n",
       "      <th>IMDB Score</th>\n",
       "      <th>Language</th>\n",
       "    </tr>\n",
       "  </thead>\n",
       "  <tbody>\n",
       "    <tr>\n",
       "      <th>0</th>\n",
       "      <td>s1</td>\n",
       "      <td>Movie</td>\n",
       "      <td>Dick Johnson Is Dead</td>\n",
       "      <td>Kirsten Johnson</td>\n",
       "      <td>NaN</td>\n",
       "      <td>United States</td>\n",
       "      <td>September 25, 2021</td>\n",
       "      <td>2020</td>\n",
       "      <td>PG-13</td>\n",
       "      <td>90 min</td>\n",
       "      <td>Documentaries</td>\n",
       "      <td>As her father nears the end of his life, filmm...</td>\n",
       "      <td>Dick Johnson Is Dead</td>\n",
       "      <td>Documentary</td>\n",
       "      <td>October 2, 2020</td>\n",
       "      <td>90</td>\n",
       "      <td>7.5</td>\n",
       "      <td>English</td>\n",
       "    </tr>\n",
       "    <tr>\n",
       "      <th>1</th>\n",
       "      <td>s142</td>\n",
       "      <td>Movie</td>\n",
       "      <td>Extraction</td>\n",
       "      <td>Steven C. Miller</td>\n",
       "      <td>Bruce Willis, Kellan Lutz, Gina Carano, D.B. S...</td>\n",
       "      <td>United States, United Kingdom, Canada</td>\n",
       "      <td>September 1, 2021</td>\n",
       "      <td>2015</td>\n",
       "      <td>R</td>\n",
       "      <td>82 min</td>\n",
       "      <td>Action &amp; Adventure</td>\n",
       "      <td>When a retired CIA agent is kidnapped, his son...</td>\n",
       "      <td>Extraction</td>\n",
       "      <td>Action</td>\n",
       "      <td>April 24, 2020</td>\n",
       "      <td>117</td>\n",
       "      <td>6.7</td>\n",
       "      <td>English</td>\n",
       "    </tr>\n",
       "    <tr>\n",
       "      <th>2</th>\n",
       "      <td>s625</td>\n",
       "      <td>Movie</td>\n",
       "      <td>Prime Time</td>\n",
       "      <td>Jakub Piątek</td>\n",
       "      <td>Bartosz Bielenia, Magdalena Popławska, Andrzej...</td>\n",
       "      <td>NaN</td>\n",
       "      <td>June 30, 2021</td>\n",
       "      <td>2021</td>\n",
       "      <td>TV-MA</td>\n",
       "      <td>NaN</td>\n",
       "      <td>Dramas, International Movies, Thrillers</td>\n",
       "      <td>On New Year’s Eve 1999, an armed man enters a ...</td>\n",
       "      <td>Prime Time</td>\n",
       "      <td>Thriller</td>\n",
       "      <td>April 14, 2021</td>\n",
       "      <td>91</td>\n",
       "      <td>5.7</td>\n",
       "      <td>Polish</td>\n",
       "    </tr>\n",
       "    <tr>\n",
       "      <th>3</th>\n",
       "      <td>s835</td>\n",
       "      <td>Movie</td>\n",
       "      <td>Blue Miracle</td>\n",
       "      <td>Julio Quintana</td>\n",
       "      <td>Jimmy Gonzales, Dennis Quaid, Anthony Gonzalez...</td>\n",
       "      <td>United States</td>\n",
       "      <td>May 27, 2021</td>\n",
       "      <td>2021</td>\n",
       "      <td>TV-PG</td>\n",
       "      <td>NaN</td>\n",
       "      <td>Children &amp; Family Movies, Dramas, Faith &amp; Spir...</td>\n",
       "      <td>To save their cash-strapped orphanage, a guard...</td>\n",
       "      <td>Blue Miracle</td>\n",
       "      <td>Drama</td>\n",
       "      <td>May 27, 2021</td>\n",
       "      <td>95</td>\n",
       "      <td>6.7</td>\n",
       "      <td>English</td>\n",
       "    </tr>\n",
       "    <tr>\n",
       "      <th>4</th>\n",
       "      <td>s837</td>\n",
       "      <td>Movie</td>\n",
       "      <td>Ghost Lab</td>\n",
       "      <td>Paween Purijitpanya</td>\n",
       "      <td>Thanapob Leeratanakachorn, Paris Intarakomalya...</td>\n",
       "      <td>Thailand</td>\n",
       "      <td>May 27, 2021</td>\n",
       "      <td>2021</td>\n",
       "      <td>TV-MA</td>\n",
       "      <td>118 min</td>\n",
       "      <td>Horror Movies, International Movies, Thrillers</td>\n",
       "      <td>After witnessing a haunting in their hospital,...</td>\n",
       "      <td>Ghost Lab</td>\n",
       "      <td>Horror</td>\n",
       "      <td>May 26, 2021</td>\n",
       "      <td>117</td>\n",
       "      <td>5.2</td>\n",
       "      <td>Thai</td>\n",
       "    </tr>\n",
       "  </tbody>\n",
       "</table>\n",
       "</div>"
      ],
      "text/plain": [
       "  show_id   type                 title             director  \\\n",
       "0      s1  Movie  Dick Johnson Is Dead      Kirsten Johnson   \n",
       "1    s142  Movie            Extraction     Steven C. Miller   \n",
       "2    s625  Movie            Prime Time         Jakub Piątek   \n",
       "3    s835  Movie          Blue Miracle       Julio Quintana   \n",
       "4    s837  Movie             Ghost Lab  Paween Purijitpanya   \n",
       "\n",
       "                                                cast  \\\n",
       "0                                                NaN   \n",
       "1  Bruce Willis, Kellan Lutz, Gina Carano, D.B. S...   \n",
       "2  Bartosz Bielenia, Magdalena Popławska, Andrzej...   \n",
       "3  Jimmy Gonzales, Dennis Quaid, Anthony Gonzalez...   \n",
       "4  Thanapob Leeratanakachorn, Paris Intarakomalya...   \n",
       "\n",
       "                                 country          date_added  release_year  \\\n",
       "0                          United States  September 25, 2021          2020   \n",
       "1  United States, United Kingdom, Canada   September 1, 2021          2015   \n",
       "2                                    NaN       June 30, 2021          2021   \n",
       "3                          United States        May 27, 2021          2021   \n",
       "4                               Thailand        May 27, 2021          2021   \n",
       "\n",
       "  rating duration                                          listed_in  \\\n",
       "0  PG-13   90 min                                      Documentaries   \n",
       "1      R   82 min                                 Action & Adventure   \n",
       "2  TV-MA      NaN            Dramas, International Movies, Thrillers   \n",
       "3  TV-PG      NaN  Children & Family Movies, Dramas, Faith & Spir...   \n",
       "4  TV-MA  118 min     Horror Movies, International Movies, Thrillers   \n",
       "\n",
       "                                         description                 Title  \\\n",
       "0  As her father nears the end of his life, filmm...  Dick Johnson Is Dead   \n",
       "1  When a retired CIA agent is kidnapped, his son...            Extraction   \n",
       "2  On New Year’s Eve 1999, an armed man enters a ...            Prime Time   \n",
       "3  To save their cash-strapped orphanage, a guard...          Blue Miracle   \n",
       "4  After witnessing a haunting in their hospital,...             Ghost Lab   \n",
       "\n",
       "         Genre         Premiere  Runtime  IMDB Score Language  \n",
       "0  Documentary  October 2, 2020       90         7.5  English  \n",
       "1       Action   April 24, 2020      117         6.7  English  \n",
       "2     Thriller   April 14, 2021       91         5.7   Polish  \n",
       "3        Drama     May 27, 2021       95         6.7  English  \n",
       "4       Horror     May 26, 2021      117         5.2     Thai  "
      ]
     },
     "execution_count": 33,
     "metadata": {},
     "output_type": "execute_result"
    }
   ],
   "source": [
    "# Carga el dataset de trabajo\n",
    "df = pd.read_csv(\"../../labs/lab2_m2_pandas/datos/netflix_mergeado.csv\",index_col=0)\n",
    "df.head(5)"
   ]
  },
  {
   "cell_type": "markdown",
   "id": "cb06a7b4",
   "metadata": {},
   "source": [
    "#### Ejercicio 1: ¿Cuántos títulos hay por cada tipo de contenido ('Movie' o 'TV Show')?"
   ]
  },
  {
   "cell_type": "code",
   "execution_count": 34,
   "id": "60cb155f",
   "metadata": {},
   "outputs": [
    {
     "data": {
      "text/plain": [
       "Index(['show_id', 'type', 'title', 'director', 'cast', 'country', 'date_added',\n",
       "       'release_year', 'rating', 'duration', 'listed_in', 'description',\n",
       "       'Title', 'Genre', 'Premiere', 'Runtime', 'IMDB Score', 'Language'],\n",
       "      dtype='object')"
      ]
     },
     "execution_count": 34,
     "metadata": {},
     "output_type": "execute_result"
    }
   ],
   "source": [
    "df.columns"
   ]
  },
  {
   "cell_type": "code",
   "execution_count": 42,
   "id": "d63fd7d5",
   "metadata": {},
   "outputs": [
    {
     "data": {
      "text/plain": [
       "type\n",
       "Movie    513\n",
       "Name: title, dtype: int64"
      ]
     },
     "execution_count": 42,
     "metadata": {},
     "output_type": "execute_result"
    }
   ],
   "source": [
    "\n",
    "df_agrupado_movie_TVshow = df.groupby(\"type\")[\"title\"]\n",
    "df_agrupado_movie_TVshow.count()"
   ]
  },
  {
   "cell_type": "markdown",
   "id": "b956d726",
   "metadata": {},
   "source": [
    "#### Ejercicio 2: ¿Cuál es el promedio de puntuación de las películas agrupadas por clasificación de audiencia ('rating')? Interpreta los resultados, ¿hay algo que te llame la atención? Explica por qué. "
   ]
  },
  {
   "cell_type": "code",
   "execution_count": 36,
   "id": "416c0731",
   "metadata": {},
   "outputs": [
    {
     "data": {
      "text/plain": [
       "rating\n",
       "G        6.500000\n",
       "PG       6.800000\n",
       "PG-13    6.386957\n",
       "R        6.495745\n",
       "TV-14    6.177660\n",
       "TV-G     6.156250\n",
       "TV-MA    6.097638\n",
       "TV-PG    6.308772\n",
       "TV-Y     6.780000\n",
       "TV-Y7    6.240000\n",
       "Name: IMDB Score, dtype: float64"
      ]
     },
     "execution_count": 36,
     "metadata": {},
     "output_type": "execute_result"
    }
   ],
   "source": [
    "df.groupby(\"rating\")[\"IMDB Score\"].mean()"
   ]
  },
  {
   "cell_type": "markdown",
   "id": "f236954f",
   "metadata": {},
   "source": [
    "#### Ejercicio 3: ¿Cuántos títulos hay por cada país? Ordena los resultados de mayor a menor"
   ]
  },
  {
   "cell_type": "code",
   "execution_count": 37,
   "id": "1d6b8695",
   "metadata": {},
   "outputs": [
    {
     "data": {
      "text/plain": [
       "<bound method Series.sort_index of country\n",
       "Argentina                                 5\n",
       "Australia, United States                  1\n",
       "Austria                                   2\n",
       "Belgium, Netherlands                      1\n",
       "Belgium, United Kingdom, United States    1\n",
       "                                         ..\n",
       "United States, Mexico                     3\n",
       "United States, United Kingdom             2\n",
       "United States, United Kingdom, Canada     1\n",
       "United States, United Kingdom, Germany    1\n",
       "United States, United Kingdom, India      1\n",
       "Name: title, Length: 81, dtype: int64>"
      ]
     },
     "execution_count": 37,
     "metadata": {},
     "output_type": "execute_result"
    }
   ],
   "source": [
    "df_agrupado_3 = df.groupby(\"country\")[\"title\"].count().sort_index\n",
    "\n",
    "df_agrupado_3"
   ]
  },
  {
   "cell_type": "markdown",
   "id": "a49712a3",
   "metadata": {},
   "source": [
    "#### Ejercicio 4: ¿Cuál es la calificación promedio en IMDb de los títulos agrupados por tipo ('Movie' o 'TV Show')?"
   ]
  },
  {
   "cell_type": "code",
   "execution_count": 50,
   "id": "564e953f",
   "metadata": {},
   "outputs": [
    {
     "data": {
      "text/plain": [
       "type\n",
       "Movie    6.210916\n",
       "Name: IMDB Score, dtype: float64"
      ]
     },
     "execution_count": 50,
     "metadata": {},
     "output_type": "execute_result"
    }
   ],
   "source": [
    "df.groupby(\"type\")[\"IMDB Score\"].mean()"
   ]
  },
  {
   "cell_type": "markdown",
   "id": "4eac1036",
   "metadata": {},
   "source": [
    "#### Ejercicio 5: ¿Cuántos títulos se añadieron a Netflix cada año? Para resolver este ejercicio tendrás uqe convertir la columna `date_added` a formato fecha usando el método `pd.to_datetime`. [Aquí](https://pandas.pydata.org/docs/reference/api/pandas.to_datetime.html) tienes la documentación, leeala con detenimiento antes de usar el método. "
   ]
  },
  {
   "cell_type": "code",
   "execution_count": 110,
   "id": "304cc8a0",
   "metadata": {},
   "outputs": [
    {
     "data": {
      "text/html": [
       "<div>\n",
       "<style scoped>\n",
       "    .dataframe tbody tr th:only-of-type {\n",
       "        vertical-align: middle;\n",
       "    }\n",
       "\n",
       "    .dataframe tbody tr th {\n",
       "        vertical-align: top;\n",
       "    }\n",
       "\n",
       "    .dataframe thead th {\n",
       "        text-align: right;\n",
       "    }\n",
       "</style>\n",
       "<table border=\"1\" class=\"dataframe\">\n",
       "  <thead>\n",
       "    <tr style=\"text-align: right;\">\n",
       "      <th></th>\n",
       "      <th>title</th>\n",
       "    </tr>\n",
       "    <tr>\n",
       "      <th>Año</th>\n",
       "      <th></th>\n",
       "    </tr>\n",
       "  </thead>\n",
       "  <tbody>\n",
       "    <tr>\n",
       "      <th>2015</th>\n",
       "      <td>10</td>\n",
       "    </tr>\n",
       "    <tr>\n",
       "      <th>2016</th>\n",
       "      <td>28</td>\n",
       "    </tr>\n",
       "    <tr>\n",
       "      <th>2017</th>\n",
       "      <td>57</td>\n",
       "    </tr>\n",
       "    <tr>\n",
       "      <th>2018</th>\n",
       "      <td>83</td>\n",
       "    </tr>\n",
       "    <tr>\n",
       "      <th>2019</th>\n",
       "      <td>107</td>\n",
       "    </tr>\n",
       "    <tr>\n",
       "      <th>2020</th>\n",
       "      <td>164</td>\n",
       "    </tr>\n",
       "    <tr>\n",
       "      <th>2021</th>\n",
       "      <td>64</td>\n",
       "    </tr>\n",
       "  </tbody>\n",
       "</table>\n",
       "</div>"
      ],
      "text/plain": [
       "      title\n",
       "Año        \n",
       "2015     10\n",
       "2016     28\n",
       "2017     57\n",
       "2018     83\n",
       "2019    107\n",
       "2020    164\n",
       "2021     64"
      ]
     },
     "execution_count": 110,
     "metadata": {},
     "output_type": "execute_result"
    }
   ],
   "source": [
    "df_fecha = pd.to_datetime(df[\"date_added\"])\n",
    "\n",
    "df[\"Año\"] = df[\"date_added\"].dt.year\n",
    "df_yr = df.groupby(\"Año\")[[\"title\"]].count()\n",
    "df_yr\n",
    "\n",
    "\n"
   ]
  },
  {
   "cell_type": "markdown",
   "id": "ddd1d9b9",
   "metadata": {},
   "source": [
    "#### Ejercicio 6: ¿Cuál es el país con más títulos lanzados en el año 2020? Para resolver este ejercicio después del gropuby os puede resultar interesante el método [`idxmax`](https://pandas.pydata.org/docs/reference/api/pandas.DataFrame.idxmax.html)"
   ]
  },
  {
   "cell_type": "code",
   "execution_count": 129,
   "id": "0d914739",
   "metadata": {},
   "outputs": [
    {
     "data": {
      "text/plain": [
       "'United States'"
      ]
     },
     "execution_count": 129,
     "metadata": {},
     "output_type": "execute_result"
    }
   ],
   "source": [
    "filtro_año = df[\"release_year\"] == \"2020\"\n",
    "df_titulos = df.groupby(\"country\")[\"title\"].count()\n",
    "df_titulos.idxmax()\n"
   ]
  },
  {
   "cell_type": "markdown",
   "id": "b5e05d91",
   "metadata": {},
   "source": [
    "#### Ejercicio 7:¿Cuál es el promedio de puntuación en IMDb de los títulos agrupados por país?"
   ]
  },
  {
   "cell_type": "code",
   "execution_count": 145,
   "id": "51c46210",
   "metadata": {},
   "outputs": [
    {
     "data": {
      "text/plain": [
       "country                                 title                                        \n",
       "Argentina                               A Life of Speed: The Juan Manuel Fangio Story    6.8\n",
       "                                        Guillermo Vilas: Settling the Score              7.1\n",
       "                                        Intuition                                        5.3\n",
       "                                        Notes for My Son                                 6.3\n",
       "                                        The Crimes That Bind                             6.6\n",
       "                                                                                        ... \n",
       "United States, United Kingdom           David Attenborough: A Life on Our Planet         9.0\n",
       "                                        Shirkers                                         7.4\n",
       "United States, United Kingdom, Canada   Extraction                                       6.7\n",
       "United States, United Kingdom, Germany  It Takes a Lunatic                               6.6\n",
       "United States, United Kingdom, India    The Trial of the Chicago 7                       7.8\n",
       "Name: IMDB Score, Length: 499, dtype: float64"
      ]
     },
     "execution_count": 145,
     "metadata": {},
     "output_type": "execute_result"
    }
   ],
   "source": [
    "df_puntuado = df.groupby([\"country\",\"title\"])['IMDB Score'].mean()\n",
    "df_puntuado"
   ]
  },
  {
   "cell_type": "markdown",
   "id": "43634c81",
   "metadata": {},
   "source": [
    "#### Ejercicio 8: ¿Cuántos títulos fueron lanzados en cada año agrupados por tipo ('Movie' o 'TV Show')?"
   ]
  },
  {
   "cell_type": "code",
   "execution_count": 192,
   "id": "d14840b1",
   "metadata": {},
   "outputs": [
    {
     "data": {
      "text/html": [
       "<div>\n",
       "<style scoped>\n",
       "    .dataframe tbody tr th:only-of-type {\n",
       "        vertical-align: middle;\n",
       "    }\n",
       "\n",
       "    .dataframe tbody tr th {\n",
       "        vertical-align: top;\n",
       "    }\n",
       "\n",
       "    .dataframe thead th {\n",
       "        text-align: right;\n",
       "    }\n",
       "</style>\n",
       "<table border=\"1\" class=\"dataframe\">\n",
       "  <thead>\n",
       "    <tr style=\"text-align: right;\">\n",
       "      <th></th>\n",
       "      <th></th>\n",
       "      <th>title</th>\n",
       "    </tr>\n",
       "    <tr>\n",
       "      <th>type</th>\n",
       "      <th>release_year</th>\n",
       "      <th></th>\n",
       "    </tr>\n",
       "  </thead>\n",
       "  <tbody>\n",
       "    <tr>\n",
       "      <th rowspan=\"8\" valign=\"top\">Movie</th>\n",
       "      <th>2021</th>\n",
       "      <td>56</td>\n",
       "    </tr>\n",
       "    <tr>\n",
       "      <th>2020</th>\n",
       "      <td>169</td>\n",
       "    </tr>\n",
       "    <tr>\n",
       "      <th>2019</th>\n",
       "      <td>103</td>\n",
       "    </tr>\n",
       "    <tr>\n",
       "      <th>2018</th>\n",
       "      <td>87</td>\n",
       "    </tr>\n",
       "    <tr>\n",
       "      <th>2017</th>\n",
       "      <td>56</td>\n",
       "    </tr>\n",
       "    <tr>\n",
       "      <th>2016</th>\n",
       "      <td>30</td>\n",
       "    </tr>\n",
       "    <tr>\n",
       "      <th>2015</th>\n",
       "      <td>11</td>\n",
       "    </tr>\n",
       "    <tr>\n",
       "      <th>2014</th>\n",
       "      <td>1</td>\n",
       "    </tr>\n",
       "  </tbody>\n",
       "</table>\n",
       "</div>"
      ],
      "text/plain": [
       "                    title\n",
       "type  release_year       \n",
       "Movie 2021             56\n",
       "      2020            169\n",
       "      2019            103\n",
       "      2018             87\n",
       "      2017             56\n",
       "      2016             30\n",
       "      2015             11\n",
       "      2014              1"
      ]
     },
     "execution_count": 192,
     "metadata": {},
     "output_type": "execute_result"
    }
   ],
   "source": [
    "df_lanz = df.groupby([\"type\",\"release_year\"])[['title']].count().sort_values(by= \"release_year\", ascending = False)\n",
    "df_lanz"
   ]
  },
  {
   "cell_type": "markdown",
   "id": "4fc8e1d3",
   "metadata": {},
   "source": [
    "#### Ejercicio 9: ¿Cuál es el país con la mayor cantidad de títulos de clasificación 'TV-MA'?"
   ]
  },
  {
   "cell_type": "code",
   "execution_count": 193,
   "id": "a9a2d175",
   "metadata": {},
   "outputs": [
    {
     "data": {
      "text/html": [
       "<div>\n",
       "<style scoped>\n",
       "    .dataframe tbody tr th:only-of-type {\n",
       "        vertical-align: middle;\n",
       "    }\n",
       "\n",
       "    .dataframe tbody tr th {\n",
       "        vertical-align: top;\n",
       "    }\n",
       "\n",
       "    .dataframe thead th {\n",
       "        text-align: right;\n",
       "    }\n",
       "</style>\n",
       "<table border=\"1\" class=\"dataframe\">\n",
       "  <thead>\n",
       "    <tr style=\"text-align: right;\">\n",
       "      <th></th>\n",
       "      <th>show_id</th>\n",
       "      <th>type</th>\n",
       "      <th>title</th>\n",
       "      <th>director</th>\n",
       "      <th>cast</th>\n",
       "      <th>country</th>\n",
       "      <th>date_added</th>\n",
       "      <th>release_year</th>\n",
       "      <th>rating</th>\n",
       "      <th>duration</th>\n",
       "      <th>listed_in</th>\n",
       "      <th>description</th>\n",
       "      <th>Title</th>\n",
       "      <th>Genre</th>\n",
       "      <th>Premiere</th>\n",
       "      <th>Runtime</th>\n",
       "      <th>IMDB Score</th>\n",
       "      <th>Language</th>\n",
       "      <th>Año</th>\n",
       "    </tr>\n",
       "  </thead>\n",
       "  <tbody>\n",
       "    <tr>\n",
       "      <th>2</th>\n",
       "      <td>s625</td>\n",
       "      <td>Movie</td>\n",
       "      <td>Prime Time</td>\n",
       "      <td>Jakub Piątek</td>\n",
       "      <td>Bartosz Bielenia, Magdalena Popławska, Andrzej...</td>\n",
       "      <td>NaN</td>\n",
       "      <td>2021-06-30</td>\n",
       "      <td>2021</td>\n",
       "      <td>TV-MA</td>\n",
       "      <td>NaN</td>\n",
       "      <td>Dramas, International Movies, Thrillers</td>\n",
       "      <td>On New Year’s Eve 1999, an armed man enters a ...</td>\n",
       "      <td>Prime Time</td>\n",
       "      <td>Thriller</td>\n",
       "      <td>April 14, 2021</td>\n",
       "      <td>91</td>\n",
       "      <td>5.7</td>\n",
       "      <td>Polish</td>\n",
       "      <td>2021</td>\n",
       "    </tr>\n",
       "    <tr>\n",
       "      <th>4</th>\n",
       "      <td>s837</td>\n",
       "      <td>Movie</td>\n",
       "      <td>Ghost Lab</td>\n",
       "      <td>Paween Purijitpanya</td>\n",
       "      <td>Thanapob Leeratanakachorn, Paris Intarakomalya...</td>\n",
       "      <td>Thailand</td>\n",
       "      <td>2021-05-27</td>\n",
       "      <td>2021</td>\n",
       "      <td>TV-MA</td>\n",
       "      <td>118 min</td>\n",
       "      <td>Horror Movies, International Movies, Thrillers</td>\n",
       "      <td>After witnessing a haunting in their hospital,...</td>\n",
       "      <td>Ghost Lab</td>\n",
       "      <td>Horror</td>\n",
       "      <td>May 26, 2021</td>\n",
       "      <td>117</td>\n",
       "      <td>5.2</td>\n",
       "      <td>Thai</td>\n",
       "      <td>2021</td>\n",
       "    </tr>\n",
       "    <tr>\n",
       "      <th>5</th>\n",
       "      <td>s841</td>\n",
       "      <td>Movie</td>\n",
       "      <td>Baggio: The Divine Ponytail</td>\n",
       "      <td>Letizia Lamartire</td>\n",
       "      <td>Andrea Arcangeli, Valentina Bellè, Andrea Penn...</td>\n",
       "      <td>Italy</td>\n",
       "      <td>2021-05-26</td>\n",
       "      <td>2021</td>\n",
       "      <td>TV-MA</td>\n",
       "      <td>NaN</td>\n",
       "      <td>Dramas, International Movies, Sports Movies</td>\n",
       "      <td>The story of Roberto Baggio, one of the best s...</td>\n",
       "      <td>Baggio: The Divine Ponytail</td>\n",
       "      <td>Biopic</td>\n",
       "      <td>May 26, 2021</td>\n",
       "      <td>92</td>\n",
       "      <td>6.2</td>\n",
       "      <td>Italian</td>\n",
       "      <td>2021</td>\n",
       "    </tr>\n",
       "    <tr>\n",
       "      <th>6</th>\n",
       "      <td>s845</td>\n",
       "      <td>Movie</td>\n",
       "      <td>Nail Bomber: Manhunt</td>\n",
       "      <td>Daniel Vernon</td>\n",
       "      <td>NaN</td>\n",
       "      <td>NaN</td>\n",
       "      <td>2021-05-26</td>\n",
       "      <td>2021</td>\n",
       "      <td>TV-MA</td>\n",
       "      <td>73 min</td>\n",
       "      <td>Documentaries, International Movies</td>\n",
       "      <td>This documentary examines the 1999 London bomb...</td>\n",
       "      <td>Nail Bomber: Manhunt</td>\n",
       "      <td>Documentary</td>\n",
       "      <td>May 26, 2021</td>\n",
       "      <td>72</td>\n",
       "      <td>6.3</td>\n",
       "      <td>English</td>\n",
       "      <td>2021</td>\n",
       "    </tr>\n",
       "    <tr>\n",
       "      <th>9</th>\n",
       "      <td>s879</td>\n",
       "      <td>Movie</td>\n",
       "      <td>Ferry</td>\n",
       "      <td>Cecilia Verheyden</td>\n",
       "      <td>Frank Lammers, Elise Schaap, Huub Stapel, Moni...</td>\n",
       "      <td>Belgium, Netherlands</td>\n",
       "      <td>2021-05-14</td>\n",
       "      <td>2021</td>\n",
       "      <td>TV-MA</td>\n",
       "      <td>107 min</td>\n",
       "      <td>Dramas, International Movies, Thrillers</td>\n",
       "      <td>Before he built a drug empire, Ferry Bouman re...</td>\n",
       "      <td>Ferry</td>\n",
       "      <td>Crime drama</td>\n",
       "      <td>May 14, 2021</td>\n",
       "      <td>106</td>\n",
       "      <td>7.1</td>\n",
       "      <td>Dutch</td>\n",
       "      <td>2021</td>\n",
       "    </tr>\n",
       "  </tbody>\n",
       "</table>\n",
       "</div>"
      ],
      "text/plain": [
       "  show_id   type                        title             director  \\\n",
       "2    s625  Movie                   Prime Time         Jakub Piątek   \n",
       "4    s837  Movie                    Ghost Lab  Paween Purijitpanya   \n",
       "5    s841  Movie  Baggio: The Divine Ponytail    Letizia Lamartire   \n",
       "6    s845  Movie         Nail Bomber: Manhunt        Daniel Vernon   \n",
       "9    s879  Movie                        Ferry    Cecilia Verheyden   \n",
       "\n",
       "                                                cast               country  \\\n",
       "2  Bartosz Bielenia, Magdalena Popławska, Andrzej...                   NaN   \n",
       "4  Thanapob Leeratanakachorn, Paris Intarakomalya...              Thailand   \n",
       "5  Andrea Arcangeli, Valentina Bellè, Andrea Penn...                 Italy   \n",
       "6                                                NaN                   NaN   \n",
       "9  Frank Lammers, Elise Schaap, Huub Stapel, Moni...  Belgium, Netherlands   \n",
       "\n",
       "  date_added  release_year rating duration  \\\n",
       "2 2021-06-30          2021  TV-MA      NaN   \n",
       "4 2021-05-27          2021  TV-MA  118 min   \n",
       "5 2021-05-26          2021  TV-MA      NaN   \n",
       "6 2021-05-26          2021  TV-MA   73 min   \n",
       "9 2021-05-14          2021  TV-MA  107 min   \n",
       "\n",
       "                                        listed_in  \\\n",
       "2         Dramas, International Movies, Thrillers   \n",
       "4  Horror Movies, International Movies, Thrillers   \n",
       "5     Dramas, International Movies, Sports Movies   \n",
       "6             Documentaries, International Movies   \n",
       "9         Dramas, International Movies, Thrillers   \n",
       "\n",
       "                                         description  \\\n",
       "2  On New Year’s Eve 1999, an armed man enters a ...   \n",
       "4  After witnessing a haunting in their hospital,...   \n",
       "5  The story of Roberto Baggio, one of the best s...   \n",
       "6  This documentary examines the 1999 London bomb...   \n",
       "9  Before he built a drug empire, Ferry Bouman re...   \n",
       "\n",
       "                         Title        Genre        Premiere  Runtime  \\\n",
       "2                   Prime Time     Thriller  April 14, 2021       91   \n",
       "4                    Ghost Lab       Horror    May 26, 2021      117   \n",
       "5  Baggio: The Divine Ponytail       Biopic    May 26, 2021       92   \n",
       "6         Nail Bomber: Manhunt  Documentary    May 26, 2021       72   \n",
       "9                        Ferry  Crime drama    May 14, 2021      106   \n",
       "\n",
       "   IMDB Score Language   Año  \n",
       "2         5.7   Polish  2021  \n",
       "4         5.2     Thai  2021  \n",
       "5         6.2  Italian  2021  \n",
       "6         6.3  English  2021  \n",
       "9         7.1    Dutch  2021  "
      ]
     },
     "execution_count": 193,
     "metadata": {},
     "output_type": "execute_result"
    }
   ],
   "source": [
    "df_9 = df[df[\"rating\"] == \"TV-MA\"]\n",
    "df_9.groupby(\"country\")[\"rating\"].count().reset_index().sort_values(by = \"rating\", ascending=False)\n",
    "df_9.head(5)"
   ]
  },
  {
   "cell_type": "markdown",
   "id": "f1121ccd",
   "metadata": {},
   "source": [
    "#### Ejercicio 10. ¿Cuál es el promedio de duración de las películas agrupadas por país?"
   ]
  },
  {
   "cell_type": "code",
   "execution_count": 198,
   "id": "06491396",
   "metadata": {},
   "outputs": [
    {
     "data": {
      "text/html": [
       "<div>\n",
       "<style scoped>\n",
       "    .dataframe tbody tr th:only-of-type {\n",
       "        vertical-align: middle;\n",
       "    }\n",
       "\n",
       "    .dataframe tbody tr th {\n",
       "        vertical-align: top;\n",
       "    }\n",
       "\n",
       "    .dataframe thead th {\n",
       "        text-align: right;\n",
       "    }\n",
       "</style>\n",
       "<table border=\"1\" class=\"dataframe\">\n",
       "  <thead>\n",
       "    <tr style=\"text-align: right;\">\n",
       "      <th></th>\n",
       "      <th>Runtime</th>\n",
       "    </tr>\n",
       "    <tr>\n",
       "      <th>country</th>\n",
       "      <th></th>\n",
       "    </tr>\n",
       "  </thead>\n",
       "  <tbody>\n",
       "    <tr>\n",
       "      <th>Argentina</th>\n",
       "      <td>96.800000</td>\n",
       "    </tr>\n",
       "    <tr>\n",
       "      <th>Australia, United States</th>\n",
       "      <td>100.000000</td>\n",
       "    </tr>\n",
       "    <tr>\n",
       "      <th>Austria</th>\n",
       "      <td>102.500000</td>\n",
       "    </tr>\n",
       "    <tr>\n",
       "      <th>Belgium, Netherlands</th>\n",
       "      <td>106.000000</td>\n",
       "    </tr>\n",
       "    <tr>\n",
       "      <th>Belgium, United Kingdom, United States</th>\n",
       "      <td>102.000000</td>\n",
       "    </tr>\n",
       "    <tr>\n",
       "      <th>...</th>\n",
       "      <td>...</td>\n",
       "    </tr>\n",
       "    <tr>\n",
       "      <th>United States, Mexico</th>\n",
       "      <td>30.666667</td>\n",
       "    </tr>\n",
       "    <tr>\n",
       "      <th>United States, United Kingdom</th>\n",
       "      <td>90.000000</td>\n",
       "    </tr>\n",
       "    <tr>\n",
       "      <th>United States, United Kingdom, Canada</th>\n",
       "      <td>117.000000</td>\n",
       "    </tr>\n",
       "    <tr>\n",
       "      <th>United States, United Kingdom, Germany</th>\n",
       "      <td>126.000000</td>\n",
       "    </tr>\n",
       "    <tr>\n",
       "      <th>United States, United Kingdom, India</th>\n",
       "      <td>130.000000</td>\n",
       "    </tr>\n",
       "  </tbody>\n",
       "</table>\n",
       "<p>81 rows × 1 columns</p>\n",
       "</div>"
      ],
      "text/plain": [
       "                                           Runtime\n",
       "country                                           \n",
       "Argentina                                96.800000\n",
       "Australia, United States                100.000000\n",
       "Austria                                 102.500000\n",
       "Belgium, Netherlands                    106.000000\n",
       "Belgium, United Kingdom, United States  102.000000\n",
       "...                                            ...\n",
       "United States, Mexico                    30.666667\n",
       "United States, United Kingdom            90.000000\n",
       "United States, United Kingdom, Canada   117.000000\n",
       "United States, United Kingdom, Germany  126.000000\n",
       "United States, United Kingdom, India    130.000000\n",
       "\n",
       "[81 rows x 1 columns]"
      ]
     },
     "execution_count": 198,
     "metadata": {},
     "output_type": "execute_result"
    }
   ],
   "source": [
    "df_10 = df[df[\"type\"] == \"Movie\"]\n",
    "df_10.groupby(\"country\")[[\"Runtime\"]].mean()"
   ]
  },
  {
   "cell_type": "markdown",
   "id": "0f3ee373",
   "metadata": {},
   "source": [
    "#### Ejercicio 11: ¿Cuál es el número total de títulos por país y clasificación de audiencia ('rating')?"
   ]
  },
  {
   "cell_type": "code",
   "execution_count": null,
   "id": "8fe17c56",
   "metadata": {},
   "outputs": [],
   "source": []
  },
  {
   "cell_type": "markdown",
   "id": "e968d41f",
   "metadata": {},
   "source": [
    "#### Ejercicio 12: ¿Cuántos títulos fueron lanzados antes del año 2000 agrupados por país?"
   ]
  },
  {
   "cell_type": "code",
   "execution_count": null,
   "id": "09e77e41",
   "metadata": {},
   "outputs": [],
   "source": []
  },
  {
   "cell_type": "markdown",
   "id": "3feff0de",
   "metadata": {},
   "source": [
    "#### Ejercicio 13: ¿Cuál es la puntuación promedio en IMDb de los títulos lanzados en 2021 agrupados por país?"
   ]
  },
  {
   "cell_type": "code",
   "execution_count": null,
   "id": "06e047e9",
   "metadata": {},
   "outputs": [],
   "source": []
  },
  {
   "cell_type": "markdown",
   "id": "b598a9ee",
   "metadata": {},
   "source": [
    "#### Ejercicio 14: ¿Cuántos títulos fueron dirigidos por cada director? Ordena los resultados de mayor a menor"
   ]
  },
  {
   "cell_type": "code",
   "execution_count": null,
   "id": "a36c5d63",
   "metadata": {},
   "outputs": [],
   "source": []
  },
  {
   "cell_type": "markdown",
   "id": "1471f841",
   "metadata": {},
   "source": [
    "#### Ejercicio 15: ¿Cuál es el lenguaje más frecuente en los títulos lanzados en los últimos 5 años agrupado por país?"
   ]
  },
  {
   "cell_type": "code",
   "execution_count": null,
   "id": "57446c34",
   "metadata": {},
   "outputs": [],
   "source": []
  },
  {
   "cell_type": "code",
   "execution_count": null,
   "id": "15f51fe1",
   "metadata": {},
   "outputs": [],
   "source": []
  }
 ],
 "metadata": {
  "kernelspec": {
   "display_name": "base",
   "language": "python",
   "name": "python3"
  },
  "language_info": {
   "codemirror_mode": {
    "name": "ipython",
    "version": 3
   },
   "file_extension": ".py",
   "mimetype": "text/x-python",
   "name": "python",
   "nbconvert_exporter": "python",
   "pygments_lexer": "ipython3",
   "version": "3.11.7"
  }
 },
 "nbformat": 4,
 "nbformat_minor": 5
}
